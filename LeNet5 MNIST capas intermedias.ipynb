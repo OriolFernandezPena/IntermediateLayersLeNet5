{
 "cells": [
  {
   "cell_type": "code",
   "execution_count": 16,
   "metadata": {},
   "outputs": [],
   "source": [
    "import tensorflow as tf\n",
    "from tensorflow.keras import Model\n",
    "from tensorflow.keras.models import Sequential\n",
    "from tensorflow.keras.layers import Input, Conv2D, Dense, MaxPooling2D, Flatten, AveragePooling2D\n",
    "import matplotlib\n",
    "import matplotlib.pyplot as plt\n",
    "%matplotlib inline"
   ]
  },
  {
   "cell_type": "code",
   "execution_count": 2,
   "metadata": {},
   "outputs": [],
   "source": [
    "(x_train, y_train), (x_test, y_test) = tf.keras.datasets.mnist.load_data()\n",
    "x_train, x_test = x_train / 255.0, x_test / 255.0"
   ]
  },
  {
   "cell_type": "code",
   "execution_count": 3,
   "metadata": {},
   "outputs": [],
   "source": [
    "num_classes = 10\n",
    "img_rows, img_cols, img_ch = 28, 28, 1\n",
    "input_shape = (img_rows, img_cols, img_ch)"
   ]
  },
  {
   "cell_type": "code",
   "execution_count": 5,
   "metadata": {},
   "outputs": [],
   "source": [
    "x_train = x_train.reshape(x_train.shape[0], *input_shape)\n",
    "x_test = x_test.reshape(x_test.shape[0], *input_shape)"
   ]
  },
  {
   "cell_type": "code",
   "execution_count": 20,
   "metadata": {},
   "outputs": [],
   "source": [
    "def buildLeNet5():\n",
    "    model = Sequential()\n",
    "    model.add(Input(shape=input_shape))\n",
    "    model.add(Conv2D(6, kernel_size=(5, 5), padding='same', activation='tanh'))\n",
    "    model.add(AveragePooling2D(pool_size=(2, 2), strides=(2, 2)))\n",
    "    model.add(Conv2D(16, kernel_size=(5, 5), activation='tanh'))\n",
    "    model.add(AveragePooling2D(pool_size=(2, 2), strides=(2, 2)))\n",
    "    model.add(Conv2D(120, kernel_size=(5, 5), activation='tanh'))\n",
    "    model.add(Flatten())\n",
    "    model.add(Dense(84, activation='tanh'))\n",
    "    model.add(Dense(10, activation='softmax'))\n",
    "    \n",
    "    model.compile(optimizer='sgd', loss='sparse_categorical_crossentropy',\n",
    "             metrics=['accuracy'])\n",
    "    \n",
    "    # Ojo que si quisiéramos tocar los parámetros del optimizador podríamos pasar \n",
    "    # directamente tf.keras.optimizers.SGD(...)\n",
    "    return model"
   ]
  },
  {
   "cell_type": "code",
   "execution_count": 21,
   "metadata": {},
   "outputs": [],
   "source": [
    "model_lenet5 = buildLeNet5()"
   ]
  },
  {
   "cell_type": "code",
   "execution_count": 22,
   "metadata": {},
   "outputs": [
    {
     "name": "stdout",
     "output_type": "stream",
     "text": [
      "Model: \"sequential_3\"\n",
      "_________________________________________________________________\n",
      "Layer (type)                 Output Shape              Param #   \n",
      "=================================================================\n",
      "conv2d_3 (Conv2D)            (None, 28, 28, 6)         156       \n",
      "_________________________________________________________________\n",
      "average_pooling2d (AveragePo (None, 14, 14, 6)         0         \n",
      "_________________________________________________________________\n",
      "conv2d_4 (Conv2D)            (None, 10, 10, 16)        2416      \n",
      "_________________________________________________________________\n",
      "average_pooling2d_1 (Average (None, 5, 5, 16)          0         \n",
      "_________________________________________________________________\n",
      "conv2d_5 (Conv2D)            (None, 1, 1, 120)         48120     \n",
      "_________________________________________________________________\n",
      "flatten_1 (Flatten)          (None, 120)               0         \n",
      "_________________________________________________________________\n",
      "dense_3 (Dense)              (None, 84)                10164     \n",
      "_________________________________________________________________\n",
      "dense_4 (Dense)              (None, 10)                850       \n",
      "=================================================================\n",
      "Total params: 61,706\n",
      "Trainable params: 61,706\n",
      "Non-trainable params: 0\n",
      "_________________________________________________________________\n"
     ]
    }
   ],
   "source": [
    "model_lenet5.summary()"
   ]
  },
  {
   "cell_type": "code",
   "execution_count": 23,
   "metadata": {},
   "outputs": [],
   "source": [
    "callbacks = [tf.keras.callbacks.EarlyStopping(patience=3, monitor='val_loss'),\n",
    "            tf.keras.callbacks.TensorBoard(log_dir='./log_dir', histogram_freq=1)]"
   ]
  },
  {
   "cell_type": "code",
   "execution_count": 24,
   "metadata": {},
   "outputs": [
    {
     "name": "stdout",
     "output_type": "stream",
     "text": [
      "Epoch 1/100\n",
      "1875/1875 [==============================] - 40s 21ms/step - loss: 0.6338 - accuracy: 0.8361 - val_loss: 0.2977 - val_accuracy: 0.9154\n",
      "Epoch 2/100\n",
      "1875/1875 [==============================] - 39s 21ms/step - loss: 0.2624 - accuracy: 0.9234 - val_loss: 0.2090 - val_accuracy: 0.9394\n",
      "Epoch 3/100\n",
      "1875/1875 [==============================] - 39s 21ms/step - loss: 0.1935 - accuracy: 0.9433 - val_loss: 0.1597 - val_accuracy: 0.9532\n",
      "Epoch 4/100\n",
      "1875/1875 [==============================] - 40s 21ms/step - loss: 0.1504 - accuracy: 0.9550 - val_loss: 0.1258 - val_accuracy: 0.9640\n",
      "Epoch 5/100\n",
      "1875/1875 [==============================] - 41s 22ms/step - loss: 0.1223 - accuracy: 0.9635 - val_loss: 0.1045 - val_accuracy: 0.9702\n",
      "Epoch 6/100\n",
      "1875/1875 [==============================] - 49s 26ms/step - loss: 0.1029 - accuracy: 0.9696 - val_loss: 0.0928 - val_accuracy: 0.9714\n",
      "Epoch 7/100\n",
      "1875/1875 [==============================] - 51s 27ms/step - loss: 0.0892 - accuracy: 0.9737 - val_loss: 0.0780 - val_accuracy: 0.9770\n",
      "Epoch 8/100\n",
      "1875/1875 [==============================] - 51s 27ms/step - loss: 0.0793 - accuracy: 0.9765 - val_loss: 0.0717 - val_accuracy: 0.9779\n",
      "Epoch 9/100\n",
      "1875/1875 [==============================] - 50s 27ms/step - loss: 0.0712 - accuracy: 0.9791 - val_loss: 0.0725 - val_accuracy: 0.9783\n",
      "Epoch 10/100\n",
      "1875/1875 [==============================] - 50s 27ms/step - loss: 0.0652 - accuracy: 0.9811 - val_loss: 0.0610 - val_accuracy: 0.9813\n",
      "Epoch 11/100\n",
      "1875/1875 [==============================] - 58s 31ms/step - loss: 0.0601 - accuracy: 0.9825 - val_loss: 0.0566 - val_accuracy: 0.9819\n",
      "Epoch 12/100\n",
      "1875/1875 [==============================] - 57s 30ms/step - loss: 0.0558 - accuracy: 0.9837 - val_loss: 0.0543 - val_accuracy: 0.9826\n",
      "Epoch 13/100\n",
      "1875/1875 [==============================] - 54s 29ms/step - loss: 0.0522 - accuracy: 0.9846 - val_loss: 0.0530 - val_accuracy: 0.9827\n",
      "Epoch 14/100\n",
      "1875/1875 [==============================] - 53s 28ms/step - loss: 0.0491 - accuracy: 0.9856 - val_loss: 0.0489 - val_accuracy: 0.9837\n",
      "Epoch 15/100\n",
      "1875/1875 [==============================] - 52s 28ms/step - loss: 0.0465 - accuracy: 0.9863 - val_loss: 0.0479 - val_accuracy: 0.9845\n",
      "Epoch 16/100\n",
      "1875/1875 [==============================] - 58s 31ms/step - loss: 0.0439 - accuracy: 0.9869 - val_loss: 0.0458 - val_accuracy: 0.9849\n",
      "Epoch 17/100\n",
      "1875/1875 [==============================] - 55s 29ms/step - loss: 0.0417 - accuracy: 0.9877 - val_loss: 0.0473 - val_accuracy: 0.9844\n",
      "Epoch 18/100\n",
      "1875/1875 [==============================] - 52s 28ms/step - loss: 0.0400 - accuracy: 0.9883 - val_loss: 0.0424 - val_accuracy: 0.9861\n",
      "Epoch 19/100\n",
      "1875/1875 [==============================] - 55s 29ms/step - loss: 0.0379 - accuracy: 0.9890 - val_loss: 0.0425 - val_accuracy: 0.9852\n",
      "Epoch 20/100\n",
      "1875/1875 [==============================] - 75s 40ms/step - loss: 0.0365 - accuracy: 0.9894 - val_loss: 0.0411 - val_accuracy: 0.9863\n",
      "Epoch 21/100\n",
      "1875/1875 [==============================] - 58s 31ms/step - loss: 0.0349 - accuracy: 0.9902 - val_loss: 0.0414 - val_accuracy: 0.9862\n",
      "Epoch 22/100\n",
      "1875/1875 [==============================] - 54s 29ms/step - loss: 0.0336 - accuracy: 0.9901 - val_loss: 0.0401 - val_accuracy: 0.9869\n",
      "Epoch 23/100\n",
      "1875/1875 [==============================] - 58s 31ms/step - loss: 0.0323 - accuracy: 0.9906 - val_loss: 0.0369 - val_accuracy: 0.9876\n",
      "Epoch 24/100\n",
      "1875/1875 [==============================] - 47s 25ms/step - loss: 0.0311 - accuracy: 0.9912 - val_loss: 0.0392 - val_accuracy: 0.9860\n",
      "Epoch 25/100\n",
      "1875/1875 [==============================] - 45s 24ms/step - loss: 0.0301 - accuracy: 0.9914 - val_loss: 0.0370 - val_accuracy: 0.9885\n",
      "Epoch 26/100\n",
      "1875/1875 [==============================] - 48s 25ms/step - loss: 0.0290 - accuracy: 0.9919 - val_loss: 0.0364 - val_accuracy: 0.9869\n",
      "Epoch 27/100\n",
      "1875/1875 [==============================] - 52s 28ms/step - loss: 0.0280 - accuracy: 0.9924 - val_loss: 0.0354 - val_accuracy: 0.9883\n",
      "Epoch 28/100\n",
      "1875/1875 [==============================] - 53s 28ms/step - loss: 0.0272 - accuracy: 0.9923 - val_loss: 0.0347 - val_accuracy: 0.9880\n",
      "Epoch 29/100\n",
      "1875/1875 [==============================] - 53s 28ms/step - loss: 0.0262 - accuracy: 0.9927 - val_loss: 0.0354 - val_accuracy: 0.9879\n",
      "Epoch 30/100\n",
      "1875/1875 [==============================] - 53s 28ms/step - loss: 0.0254 - accuracy: 0.9928 - val_loss: 0.0340 - val_accuracy: 0.9888\n",
      "Epoch 31/100\n",
      "1875/1875 [==============================] - 52s 28ms/step - loss: 0.0246 - accuracy: 0.9933 - val_loss: 0.0337 - val_accuracy: 0.9880\n",
      "Epoch 32/100\n",
      "1875/1875 [==============================] - 53s 28ms/step - loss: 0.0238 - accuracy: 0.9934 - val_loss: 0.0345 - val_accuracy: 0.9880\n",
      "Epoch 33/100\n",
      "1875/1875 [==============================] - 53s 28ms/step - loss: 0.0230 - accuracy: 0.9937 - val_loss: 0.0338 - val_accuracy: 0.9886\n",
      "Epoch 34/100\n",
      "1875/1875 [==============================] - 54s 29ms/step - loss: 0.0224 - accuracy: 0.9940 - val_loss: 0.0329 - val_accuracy: 0.9882\n",
      "Epoch 35/100\n",
      "1875/1875 [==============================] - 57s 30ms/step - loss: 0.0217 - accuracy: 0.9940 - val_loss: 0.0328 - val_accuracy: 0.9890\n",
      "Epoch 36/100\n",
      "1875/1875 [==============================] - 56s 30ms/step - loss: 0.0210 - accuracy: 0.9943 - val_loss: 0.0328 - val_accuracy: 0.9886\n",
      "Epoch 37/100\n",
      "1875/1875 [==============================] - 55s 29ms/step - loss: 0.0203 - accuracy: 0.9944 - val_loss: 0.0322 - val_accuracy: 0.9885\n",
      "Epoch 38/100\n",
      "1875/1875 [==============================] - 56s 30ms/step - loss: 0.0199 - accuracy: 0.9946 - val_loss: 0.0340 - val_accuracy: 0.9883\n",
      "Epoch 39/100\n",
      "1875/1875 [==============================] - 57s 30ms/step - loss: 0.0194 - accuracy: 0.9947 - val_loss: 0.0320 - val_accuracy: 0.9886\n",
      "Epoch 40/100\n",
      "1875/1875 [==============================] - 58s 31ms/step - loss: 0.0187 - accuracy: 0.9947 - val_loss: 0.0336 - val_accuracy: 0.9884\n",
      "Epoch 41/100\n",
      "1875/1875 [==============================] - 58s 31ms/step - loss: 0.0182 - accuracy: 0.9949 - val_loss: 0.0324 - val_accuracy: 0.9885\n",
      "Epoch 42/100\n",
      "1875/1875 [==============================] - 72s 38ms/step - loss: 0.0176 - accuracy: 0.9955 - val_loss: 0.0323 - val_accuracy: 0.9884\n"
     ]
    },
    {
     "data": {
      "text/plain": [
       "<keras.callbacks.History at 0x7fdaf078bfd0>"
      ]
     },
     "execution_count": 24,
     "metadata": {},
     "output_type": "execute_result"
    }
   ],
   "source": [
    "model_lenet5.fit(x_train, y_train, batch_size=32, epochs=100,\n",
    "         validation_data=(x_test, y_test), callbacks=callbacks,\n",
    "         verbose=1)"
   ]
  },
  {
   "cell_type": "code",
   "execution_count": 26,
   "metadata": {},
   "outputs": [],
   "source": [
    "outputs = [layer.output for layer in model_lenet5.layers]"
   ]
  },
  {
   "cell_type": "code",
   "execution_count": 29,
   "metadata": {},
   "outputs": [],
   "source": [
    "out_function = tf.keras.backend.function([model_lenet5.input], [output for output in outputs])"
   ]
  },
  {
   "cell_type": "code",
   "execution_count": 31,
   "metadata": {},
   "outputs": [
    {
     "data": {
      "text/plain": [
       "(60000, 28, 28, 1)"
      ]
     },
     "execution_count": 31,
     "metadata": {},
     "output_type": "execute_result"
    }
   ],
   "source": [
    "x_train.shape"
   ]
  },
  {
   "cell_type": "code",
   "execution_count": 79,
   "metadata": {},
   "outputs": [
    {
     "data": {
      "image/png": "[encoded data removed]",
      "text/plain": [
       "<Figure size 432x288 with 1 Axes>"
      ]
     },
     "metadata": {
      "needs_background": "light"
     },
     "output_type": "display_data"
    }
   ],
   "source": [
    "plt.imshow(x_train[[0]][0, :, :, 0], cmap=matplotlib.cm.binary, interpolation='nearest')\n",
    "plt.axis('off')\n",
    "plt.show()"
   ]
  },
  {
   "cell_type": "code",
   "execution_count": 113,
   "metadata": {},
   "outputs": [],
   "source": [
    "def shows_layer_output(layer_idx, element):\n",
    "\n",
    "    layer_outputs = out_function(x_train[[element]])[layer_idx]\n",
    "    number_of_filters = layer_outputs.shape[-1]\n",
    "\n",
    "    columns = 3\n",
    "    rows = number_of_filters // columns + 1*(number_of_filters % columns != 0)\n",
    "\n",
    "    fig = plt.figure(figsize=(10, 10))\n",
    "\n",
    "    for i in range(number_of_filters):\n",
    "        fig.add_subplot(rows, columns, i+1)\n",
    "        plt.imshow(layer_outputs[0, :, :, i], cmap=matplotlib.cm.binary, interpolation='nearest')\n",
    "        plt.axis('off')\n",
    "    plt.show()"
   ]
  },
  {
   "cell_type": "code",
   "execution_count": 114,
   "metadata": {},
   "outputs": [
    {
     "data": {
      "image/png": "[encoded data removed]",
      "text/plain": [
       "<Figure size 720x720 with 6 Axes>"
      ]
     },
     "metadata": {
      "needs_background": "light"
     },
     "output_type": "display_data"
    }
   ],
   "source": [
    "shows_layer_output(0, 0)"
   ]
  },
  {
   "cell_type": "code",
   "execution_count": 109,
   "metadata": {},
   "outputs": [
    {
     "data": {
      "image/png": "[encoded data removed]",
      "text/plain": [
       "<Figure size 1080x1080 with 6 Axes>"
      ]
     },
     "metadata": {
      "needs_background": "light"
     },
     "output_type": "display_data"
    }
   ],
   "source": [
    "shows_layer_output(1, 0)"
   ]
  },
  {
   "cell_type": "code",
   "execution_count": 110,
   "metadata": {},
   "outputs": [
    {
     "data": {
      "image/png": "[encoded data removed]",
      "text/plain": [
       "<Figure size 1080x1080 with 16 Axes>"
      ]
     },
     "metadata": {
      "needs_background": "light"
     },
     "output_type": "display_data"
    }
   ],
   "source": [
    "shows_layer_output(2, 0)"
   ]
  },
  {
   "cell_type": "code",
   "execution_count": 111,
   "metadata": {},
   "outputs": [
    {
     "data": {
      "image/png": "[encoded data removed]",
      "text/plain": [
       "<Figure size 1080x1080 with 16 Axes>"
      ]
     },
     "metadata": {
      "needs_background": "light"
     },
     "output_type": "display_data"
    }
   ],
   "source": [
    "shows_layer_output(3, 0)"
   ]
  },
  {
   "cell_type": "code",
   "execution_count": 115,
   "metadata": {},
   "outputs": [
    {
     "data": {
      "text/plain": [
       "(1, 1, 1, 120)"
      ]
     },
     "execution_count": 115,
     "metadata": {},
     "output_type": "execute_result"
    }
   ],
   "source": [
    "out_function(x_train[[0]])[4].shape"
   ]
  },
  {
   "cell_type": "code",
   "execution_count": 74,
   "metadata": {},
   "outputs": [
    {
     "data": {
      "text/plain": [
       "(1, 120)"
      ]
     },
     "execution_count": 74,
     "metadata": {},
     "output_type": "execute_result"
    }
   ],
   "source": [
    "out_function(x_train[[0]])[5].shape"
   ]
  },
  {
   "cell_type": "code",
   "execution_count": 75,
   "metadata": {},
   "outputs": [
    {
     "data": {
      "text/plain": [
       "(1, 84)"
      ]
     },
     "execution_count": 75,
     "metadata": {},
     "output_type": "execute_result"
    }
   ],
   "source": [
    "out_function(x_train[[0]])[6].shape"
   ]
  },
  {
   "cell_type": "code",
   "execution_count": 76,
   "metadata": {},
   "outputs": [
    {
     "data": {
      "text/plain": [
       "(1, 10)"
      ]
     },
     "execution_count": 76,
     "metadata": {},
     "output_type": "execute_result"
    }
   ],
   "source": [
    "out_function(x_train[[0]])[7].shape"
   ]
  },
  {
   "cell_type": "code",
   "execution_count": 119,
   "metadata": {},
   "outputs": [
    {
     "name": "stdout",
     "output_type": "stream",
     "text": [
      "The number predicted by the LeNet5 NN is: 5\n"
     ]
    }
   ],
   "source": [
    "import numpy as np\n",
    "\n",
    "print(\"The number predicted by the LeNet5 NN is: {}\".format(np.argmax(out_function(x_train[[0]])[7])))"
   ]
  }
 ],
 "metadata": {
  "kernelspec": {
   "display_name": "Python 3",
   "language": "python",
   "name": "python3"
  },
  "language_info": {
   "codemirror_mode": {
    "name": "ipython",
    "version": 3
   },
   "file_extension": ".py",
   "mimetype": "text/x-python",
   "name": "python",
   "nbconvert_exporter": "python",
   "pygments_lexer": "ipython3",
   "version": "3.8.3"
  }
 },
 "nbformat": 4,
 "nbformat_minor": 4
}
